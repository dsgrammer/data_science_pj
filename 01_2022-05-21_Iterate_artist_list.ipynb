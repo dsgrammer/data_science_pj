{
 "cells": [
  {
   "cell_type": "markdown",
   "metadata": {},
   "source": [
    "This iteration of the API call program uses an artist list formatted as a csv as the input to do the API calls for album information."
   ]
  },
  {
   "cell_type": "code",
   "execution_count": 43,
   "metadata": {},
   "outputs": [],
   "source": [
    "import requests\n",
    "import pandas as pd\n",
    "import time"
   ]
  },
  {
   "cell_type": "code",
   "execution_count": 44,
   "metadata": {},
   "outputs": [],
   "source": [
    "AUTH_URL = 'https://accounts.spotify.com/api/token'\n",
    "\n",
    "# POST\n",
    "auth_response = requests.post(AUTH_URL, {\n",
    "    'grant_type': 'client_credentials',\n",
    "    'client_id': '9cdef0bc741e471385b100af843c28c5',\n",
    "    'client_secret': 'a0820dd07a3e4d8facb51bb5ed5130a2',\n",
    "})\n",
    "\n",
    "# convert the response to JSON\n",
    "auth_response_data = auth_response.json()\n",
    "\n",
    "# save the access token\n",
    "access_token = auth_response_data['access_token']\n",
    "\n",
    "# used for authenticating all API calls\n",
    "headers = {'Authorization': 'Bearer {token}'.format(token=access_token)}"
   ]
  },
  {
   "cell_type": "code",
   "execution_count": 45,
   "metadata": {},
   "outputs": [],
   "source": [
    "def get_albums(album_df):\n",
    "    a = 0\n",
    "    artist_id_list = csv\n",
    "\n",
    "    while a < len(artist_id_list):\n",
    "        if a < len(artist_id_list):\n",
    "            #print(artist_id_list.iloc[a,0])\n",
    "            artist_id = artist_id_list.iloc[a,0]\n",
    "            # pull all artist's albums\n",
    "            r = requests.get(BASE_URL + 'artists/' + artist_id + '/albums', \n",
    "                            headers=headers, \n",
    "                            params={'include_groups': 'album'})\n",
    "            d = r.json()\n",
    "            \n",
    "            time.sleep(1)\n",
    "            \n",
    "            for album in d['items']:\n",
    "                if album['type'] == 'album':\n",
    "                    band_id = album['artists'][0]['id']\n",
    "                    band_name = album['artists'][0]['name']\n",
    "                    album_name = album['name']\n",
    "                    release_date = album['release_date']\n",
    "                    total_tracks = album['total_tracks']\n",
    "                    album_id = album['id']\n",
    "\n",
    "                    # skip album doubles\n",
    "                    trim_name = album_name.split('(')[0].strip()\n",
    "                    # Trivium specific\n",
    "                    if trim_name.upper() in albums or album['name'] == ('Ascendancy (Commentary Version)') or album['name'] == ('Ember To Inferno'):\n",
    "                        continue\n",
    "                    # append to album list for avoiding doubles\n",
    "                    albums.append(trim_name.upper())\n",
    "                    \n",
    "                    #save data in pd dataframe\n",
    "                    ##album_df = album_df.append({'band_id':band_id,'band_name':band_name,'album_name':album_name,'release_date':release_date,\n",
    "                    ##                'total_tracks':total_tracks,'album_id':album_id},ignore_index=True)\n",
    "                    temp_df = pd.DataFrame({'artist_id':band_id,'artist_name':band_name,'album_id':album_id,'album_name':album_name,'release_date':release_date,\n",
    "                        'total_tracks':total_tracks}, index = [a])\n",
    "                    album_df = pd.concat([album_df, temp_df], ignore_index=True)\n",
    "        else:\n",
    "            break \n",
    "        a += 1\n",
    "    #return album_df\n",
    "    return album_df"
   ]
  },
  {
   "cell_type": "code",
   "execution_count": 46,
   "metadata": {},
   "outputs": [
    {
     "name": "stdout",
     "output_type": "stream",
     "text": [
      "-----------------------------------\n",
      "Saved to .csv in project directory.\n",
      "-----------------------------------\n"
     ]
    }
   ],
   "source": [
    "#Main\n",
    "BASE_URL = 'https://api.spotify.com/v1/'\n",
    "csv = pd.read_csv('artist_list.csv',index_col=False)\n",
    "#data = []\n",
    "albums = []\n",
    "album_df = pd.DataFrame(columns=[\"artist_id\",\"artist_name\",\"album_id\",\"album_name\",\"release_date\",\n",
    "                  \"total_tracks\"])\n",
    "album_df = get_albums(album_df)\n",
    "\n",
    "#album_df= album_df.reset_index()\n",
    "#album_df = album_df.set_index('album_id')\n",
    "album_df.to_csv(r'C:\\Users\\dsgra\\OneDrive\\Documents\\01 - Full Stack Data Science PJ\\data science pj\\album_list.csv',encoding='utf-8-sig')\n",
    "print('-----------------------------------')\n",
    "print('Saved to .csv in project directory.')\n",
    "print('-----------------------------------')"
   ]
  },
  {
   "cell_type": "code",
   "execution_count": 47,
   "metadata": {},
   "outputs": [
    {
     "name": "stdout",
     "output_type": "stream",
     "text": [
      "<class 'pandas.core.frame.DataFrame'>\n",
      "RangeIndex: 22 entries, 0 to 21\n",
      "Data columns (total 6 columns):\n",
      " #   Column        Non-Null Count  Dtype \n",
      "---  ------        --------------  ----- \n",
      " 0   artist_id     22 non-null     object\n",
      " 1   artist_name   22 non-null     object\n",
      " 2   album_id      22 non-null     object\n",
      " 3   album_name    22 non-null     object\n",
      " 4   release_date  22 non-null     object\n",
      " 5   total_tracks  22 non-null     object\n",
      "dtypes: object(6)\n",
      "memory usage: 1.2+ KB\n"
     ]
    }
   ],
   "source": [
    "album_df.info()"
   ]
  },
  {
   "cell_type": "code",
   "execution_count": 54,
   "metadata": {},
   "outputs": [
    {
     "name": "stdout",
     "output_type": "stream",
     "text": [
      "[('278ZYwGhdK6QTzE3MFePnP', 'Trivium', '0mrtkWYrUzTuFwyiiQPdQs', 'In The Court Of The Dragon', '2021-10-08', 10), ('278ZYwGhdK6QTzE3MFePnP', 'Trivium', '0aXIJYbWk4u41iJmoJmp8y', 'What The Dead Men Say', '2020-04-24', 10), ('278ZYwGhdK6QTzE3MFePnP', 'Trivium', '3qq44o8Qqvz5JQ7b5AevLT', 'The Sin and the Sentence', '2017-10-20', 11), ('278ZYwGhdK6QTzE3MFePnP', 'Trivium', '7mjOpLKh8UXgyXB1J5LvbN', 'Ember To Inferno: Ab Initio', '2016-12-02', 25), ('278ZYwGhdK6QTzE3MFePnP', 'Trivium', '5l2xUBNPkPSZB0KVrEXANI', 'Silence in the Snow (Special Edition)', '2015-10-02', 13), ('278ZYwGhdK6QTzE3MFePnP', 'Trivium', '5qI1swLFBDtgo9Q7lS2GcT', 'Vengeance Falls', '2013-10-11', 10), ('278ZYwGhdK6QTzE3MFePnP', 'Trivium', '38sCkVGoLKjqFcOrTKTEC4', 'In Waves', '2011-08-03', 13), ('278ZYwGhdK6QTzE3MFePnP', 'Trivium', '0kIXzVzbFuUf5kxM8US67m', 'Shogun (Special Edition)', '2008-09-24', 14), ('278ZYwGhdK6QTzE3MFePnP', 'Trivium', '42MixogSAsobX5po649Y0j', 'The Crusade', '2006-01-01', 13), ('278ZYwGhdK6QTzE3MFePnP', 'Trivium', '21mOhkOtrPVySn4D2SbOAF', 'Ascendancy (Special Edition)', '2005-03-07', 16), ('6bu7CtcOMWcS0BMq7snHW6', 'Wage War', '0UVXavHOdUQbRlnUGLiHkv', 'The Stripped Sessions', '2022-12-02', 11), ('6bu7CtcOMWcS0BMq7snHW6', 'Wage War', '2gSVPsycPerzCuSd67ENuF', 'Manic', '2021-10-01', 11), ('6bu7CtcOMWcS0BMq7snHW6', 'Wage War', '2tStEaMvl7vkfgAEwysgYP', 'Pressure', '2019-08-30', 12), ('6bu7CtcOMWcS0BMq7snHW6', 'Wage War', '0c4JrJyBCQHU0Pq3td483f', 'Deadweight', '2017-08-04', 12), ('6bu7CtcOMWcS0BMq7snHW6', 'Wage War', '49N4elSQN0QVKzwOs0g1M2', 'Blueprints', '2015-11-27', 11), ('65C6Unk7nhg2aCnVuAPMo8', 'Animals As Leaders', '1mIiGxlTjTnNMTS9HYwsuB', 'Parrhesia', '2022-03-25', 9), ('65C6Unk7nhg2aCnVuAPMo8', 'Animals As Leaders', '6DAROKC6cYYfXqa6BtGp8n', 'Animals As Leaders Live 2017', '2018-05-11', 13), ('65C6Unk7nhg2aCnVuAPMo8', 'Animals As Leaders', '78uAyM6uMgY1hhPnf9LGmD', 'The Madness Of Many', '2016-11-11', 10), ('65C6Unk7nhg2aCnVuAPMo8', 'Animals As Leaders', '5hVRBZCUCcU3UIhxNikyhf', 'Animals as Leaders - Encore Edition', '2015-07-10', 15), ('65C6Unk7nhg2aCnVuAPMo8', 'Animals As Leaders', '6N9IuJzAOwbzPx9oM0ar0j', 'The Joy of Motion', '2014', 12), ('65C6Unk7nhg2aCnVuAPMo8', 'Animals As Leaders', '7IoPLwGpntUE7VaEXEU67i', 'Weightless', '2011-11-08', 12), ('65C6Unk7nhg2aCnVuAPMo8', 'Animals As Leaders', '1BRtQtljRJIxroJXI20K39', 'Animals as Leaders', '2009-04-28', 12)]\n",
      "the dataframe is inserted\n"
     ]
    }
   ],
   "source": [
    "import psycopg2\n",
    "import numpy as np\n",
    "import psycopg2.extras as extras\n",
    "import pandas as pd\n",
    "  \n",
    "# bulk insert to postgreSQL db  \n",
    "def execute_values(conn, album_df, table):\n",
    "  \n",
    "    tuples = [tuple(x) for x in album_df.to_numpy()]\n",
    "  \n",
    "    cols = ','.join(list(album_df.columns))\n",
    "    # SQL query to execute\n",
    "    query = \"\"\"\n",
    "        INSERT INTO %s(%s)\n",
    "        VALUES %%s\n",
    "        ON CONFLICT DO NOTHING\n",
    "        \"\"\" % (table, cols)\n",
    "    cursor = conn.cursor()\n",
    "    try:\n",
    "        extras.execute_values(cursor, query, tuples)\n",
    "       # print(tuples)\n",
    "        conn.commit()\n",
    "    except (Exception, psycopg2.DatabaseError) as error:\n",
    "        print(\"Error: %s\" % error)\n",
    "        conn.rollback()\n",
    "        cursor.close()\n",
    "        return 1\n",
    "    print(\"the dataframe is inserted\")\n",
    "    cursor.close()\n",
    "  \n",
    "conn = psycopg2.connect(database=\"dspjmain\",\n",
    "                        host=\"localhost\",\n",
    "                        user=\"postgres\",\n",
    "                        password=\"derekgrammer\",\n",
    "                        port=\"5432\")\n",
    "  \n",
    "execute_values(conn, album_df, 'dspjschema.artists')\n"
   ]
  },
  {
   "cell_type": "code",
   "execution_count": null,
   "metadata": {},
   "outputs": [],
   "source": []
  }
 ],
 "metadata": {
  "kernelspec": {
   "display_name": "Python 3",
   "language": "python",
   "name": "python3"
  },
  "language_info": {
   "codemirror_mode": {
    "name": "ipython",
    "version": 3
   },
   "file_extension": ".py",
   "mimetype": "text/x-python",
   "name": "python",
   "nbconvert_exporter": "python",
   "pygments_lexer": "ipython3",
   "version": "3.10.10"
  },
  "orig_nbformat": 4,
  "vscode": {
   "interpreter": {
    "hash": "06d65585397194ffcaf6fd2276ffa5750d1446fb10621674060d9e7652194a07"
   }
  }
 },
 "nbformat": 4,
 "nbformat_minor": 2
}
